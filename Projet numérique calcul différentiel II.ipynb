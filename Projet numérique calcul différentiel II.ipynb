{
 "cells": [
  {
   "cell_type": "markdown",
   "metadata": {},
   "source": [
    "# Projet numérique - Calcul différentiel II"
   ]
  },
  {
   "cell_type": "markdown",
   "metadata": {},
   "source": [
    "On note $x_1, x_2$ respectivement le nombre positif de proies et de prédateurs.\n",
    "Soient $\\alpha, \\beta, \\gamma, \\delta$ des paramètres strictement positifs. \n",
    "On a \n",
    "\\begin{array}{r c l}\n",
    "   \\dot{x_1} = x_1 (\\alpha - \\beta x_2) \\\\\n",
    "   \\dot{x_2} = - x_2 (\\gamma - \\delta x_1) \n",
    "\\end{array}\n"
   ]
  },
  {
   "cell_type": "markdown",
   "metadata": {},
   "source": [
    "### Réponse 1\n",
    "\n",
    "#### Signification des termes de la dynamique : alpha symbolise le terme de reproduction des proies\n",
    "\n",
    "#### Points d'équilibre:\n",
    "\n",
    "On pose\n",
    "\\begin{equation}\n",
    "f:\n",
    "\\left|\n",
    "  \\begin{array}{rcl}\n",
    "    \\mathbb{R}^2 \\to \\mathbb{R}^2 \\\\\n",
    "    (x_1, x_2) \\longmapsto (x_1 (\\alpha - \\beta x_2),  - x_2 (\\gamma - \\delta x_1)) \\\\\n",
    "  \\end{array}\n",
    "\\right.\n",
    "\\end{equation}.\n",
    "On a donc l'équation $ (E) : \\dot{x} = f(x) $ avec $ x \\in \\mathbb{R}^2 $\n",
    "\n",
    "Pour trouver les points d'équilibre, on résout :  \n",
    "$ f(x_1, x_2) = 0 \\Leftrightarrow $ \n",
    "$\\left\n",
    "\\{\n",
    "\\begin{array}{c}\n",
    "x_1 (\\alpha - \\beta x_2) = 0 \\\\- x_2 (\\gamma - \\delta x_1) = 0\n",
    "\\end{array}\n",
    "\\right.$"
   ]
  },
  {
   "cell_type": "markdown",
   "metadata": {},
   "source": [
    "### Réponse 2"
   ]
  },
  {
   "cell_type": "code",
   "execution_count": 9,
   "metadata": {},
   "outputs": [
    {
     "data": {
      "image/png": "[encoded data removed]",
      "text/plain": [
       "<Figure size 432x288 with 1 Axes>"
      ]
     },
     "metadata": {
      "needs_background": "light"
     },
     "output_type": "display_data"
    }
   ],
   "source": [
    "import numpy as np\n",
    "import matplotlib.pyplot as plt\n",
    "\n",
    "x, y  = np.arange(10), np.arange(10)\n",
    "\n",
    "x_1, y_1 = np.meshgrid(x, y)\n",
    "plt.scatter(x_1, y_1) \n",
    "plt.show()"
   ]
  },
  {
   "cell_type": "code",
   "execution_count": null,
   "metadata": {},
   "outputs": [],
   "source": []
  }
 ],
 "metadata": {
  "kernelspec": {
   "display_name": "Python 3",
   "language": "python",
   "name": "python3"
  },
  "language_info": {
   "codemirror_mode": {
    "name": "ipython",
    "version": 3
   },
   "file_extension": ".py",
   "mimetype": "text/x-python",
   "name": "python",
   "nbconvert_exporter": "python",
   "pygments_lexer": "ipython3",
   "version": "3.8.3"
  }
 },
 "nbformat": 4,
 "nbformat_minor": 4
}
